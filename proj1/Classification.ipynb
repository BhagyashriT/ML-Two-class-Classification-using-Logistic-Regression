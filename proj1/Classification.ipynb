{
 "cells": [
  {
   "cell_type": "code",
   "execution_count": 2,
   "metadata": {},
   "outputs": [],
   "source": [
    "import numpy as np\n",
    "import pandas as pd\n",
    "from sklearn.model_selection import train_test_split\n",
    "from sklearn import preprocessing\n",
    "from sklearn.metrics import confusion_matrix\n",
    "from sklearn.metrics import accuracy_score \n",
    "from sklearn.metrics import classification_report \n",
    "\n",
    "import matplotlib.pyplot as plt\n",
    "import seaborn as sns\n",
    "import math\n",
    "\n"
   ]
  },
  {
   "cell_type": "code",
   "execution_count": 3,
   "metadata": {},
   "outputs": [],
   "source": [
    "data = pd.read_csv('wdbc.dataset', delimiter = ',', header=None, usecols=range(1,32))"
   ]
  },
  {
   "cell_type": "code",
   "execution_count": 4,
   "metadata": {},
   "outputs": [
    {
     "data": {
      "text/plain": [
       "(569, 31)"
      ]
     },
     "execution_count": 4,
     "metadata": {},
     "output_type": "execute_result"
    }
   ],
   "source": [
    "data.shape"
   ]
  },
  {
   "cell_type": "code",
   "execution_count": 5,
   "metadata": {},
   "outputs": [
    {
     "data": {
      "text/plain": [
       "<matplotlib.axes._subplots.AxesSubplot at 0x27883bc8ac8>"
      ]
     },
     "execution_count": 5,
     "metadata": {},
     "output_type": "execute_result"
    },
    {
     "data": {
      "image/png": "[encoded data removed]",
      "text/plain": [
       "<Figure size 432x288 with 1 Axes>"
      ]
     },
     "metadata": {
      "needs_background": "light"
     },
     "output_type": "display_data"
    }
   ],
   "source": [
    "sns.countplot(x=1, data=data)"
   ]
  },
  {
   "cell_type": "code",
   "execution_count": null,
   "metadata": {},
   "outputs": [],
   "source": [
    "data = data.replace({'M':0,'B':1})"
   ]
  },
  {
   "cell_type": "markdown",
   "metadata": {},
   "source": [
    "# Partitioning target and features"
   ]
  },
  {
   "cell_type": "code",
   "execution_count": null,
   "metadata": {},
   "outputs": [],
   "source": [
    "features = data.drop(1,axis=1)\n",
    "labels = data[1]"
   ]
  },
  {
   "cell_type": "code",
   "execution_count": null,
   "metadata": {},
   "outputs": [],
   "source": [
    "#features"
   ]
  },
  {
   "cell_type": "code",
   "execution_count": null,
   "metadata": {},
   "outputs": [],
   "source": [
    "#labels"
   ]
  },
  {
   "cell_type": "markdown",
   "metadata": {},
   "source": [
    "# Normalization "
   ]
  },
  {
   "cell_type": "code",
   "execution_count": null,
   "metadata": {},
   "outputs": [],
   "source": [
    "features = preprocessing.normalize(features)"
   ]
  },
  {
   "cell_type": "markdown",
   "metadata": {},
   "source": [
    "# Data Partitioning"
   ]
  },
  {
   "cell_type": "code",
   "execution_count": null,
   "metadata": {},
   "outputs": [],
   "source": [
    "x_train, x_test, y_train, y_test = train_test_split(features, labels, test_size=0.2, random_state=42)\n",
    "x_test, x_val, y_test, y_val = train_test_split(x_test, y_test, test_size=0.5, random_state=42)"
   ]
  },
  {
   "cell_type": "code",
   "execution_count": null,
   "metadata": {},
   "outputs": [],
   "source": [
    "for dataset in [y_train, y_val, y_test]:\n",
    "    print(round(len(dataset)/len(labels), 2))"
   ]
  },
  {
   "cell_type": "code",
   "execution_count": null,
   "metadata": {},
   "outputs": [],
   "source": [
    "print('Training features shape: ', x_train.shape)\n",
    "print('Validation features shape: ',x_val.shape)\n",
    "print('Test features shape: ',x_test.shape)"
   ]
  },
  {
   "cell_type": "code",
   "execution_count": null,
   "metadata": {},
   "outputs": [],
   "source": [
    "print('Training target shape: ', y_train.shape)\n",
    "print('Validation target shape: ', y_val.shape)\n",
    "print('Test target shape: ', y_test.shape)"
   ]
  },
  {
   "cell_type": "code",
   "execution_count": null,
   "metadata": {},
   "outputs": [],
   "source": [
    "# print(x_train.shape, y_train.shape)\n",
    "# print(type(x_train), type(y_train))\n",
    "# # x_train=x_train.to_numpy()\n",
    "y_train=y_train.to_numpy()\n",
    "# print(type(x_train), type(y_train))\n",
    "y_val= y_val.to_numpy()"
   ]
  },
  {
   "cell_type": "code",
   "execution_count": null,
   "metadata": {},
   "outputs": [],
   "source": [
    "# Initializing weights, biases and learning rate:\n",
    "X, Y = x_train.T, y_train.reshape(1, y_train.shape[0])\n",
    "\n",
    "\n",
    "epochs = 1000\n",
    "learningrate = 0.00000001\n",
    "losstrack = []\n",
    "accuracyval = []\n",
    "accuracyval_val = []\n",
    "accuracyval_test = []\n",
    "\n",
    "m = X.shape[1]\n",
    "w = np.random.randn(X.shape[0], 1)*0.01\n",
    "b = 0\n",
    "lossval = []\n",
    "\n",
    "# Defining sigmoid function:\n",
    "def sigmoid(z):\n",
    "    return 1 / (1 + np.exp(-z))\n",
    "\n",
    "def predict_(X, w_new, b_new):\n",
    "    #print('Reached here')\n",
    "    val = np.dot(X, w_new) + b_new\n",
    "    z= sigmoid(val)\n",
    "    #acc = \n",
    "    #print(z.shape)\n",
    "    return z\n",
    "\n",
    "\n",
    "    \n",
    "\n",
    "def cost_fun(Y, p, m):\n",
    "    cal =  -np.sum(np.multiply(np.log(p), Y) + np.multiply((1 - Y), np.log(1 - p)))/m\n",
    "    return cal \n",
    "\n",
    "\n",
    "for epoch in range(epochs):\n",
    "    if(epoch%100==0):\n",
    "              print(str(epoch)+'th iteration of '+str(epochs))\n",
    "    z = np.dot(w.T, X) + b     \n",
    "    p = sigmoid(z)\n",
    "#     print('Y: ',Y)\n",
    "#     print('p: ',p)\n",
    "#     print('m: ',m)\n",
    "    cal = cost_fun(Y, p, m)\n",
    "#     print('cal: ',cal)\n",
    "    #cost = -np.sum(np.multiply(np.log(p), Y) + np.multiply((1 - Y), np.log(1 - p)))/m\n",
    "    losstrack.append(np.squeeze(cal))\n",
    "    dz = p-Y\n",
    "    #print(dz)\n",
    "    dw = (1 / m) * np.dot(X, dz.T)\n",
    "    db = (1 / m) * np.sum(dz)\n",
    "    w = w - learningrate * dw\n",
    "    b = b - learningrate * db\n",
    "    \n",
    "    # Compute accuracy for each possible representation of training\n",
    "    #print(np.squeeze(Y.T))\n",
    "    accu = accuracy_score(np.squeeze(Y.T), np.squeeze(p.round().astype(int).T))\n",
    "    #print(accu)\n",
    "#     accuracyval.append(np.squeeze(accu))\n",
    "    accuracyval.append(accu)\n",
    "    \n",
    "    \n",
    "    \n",
    "    y_test_pred = predict_(x_test, w, b)\n",
    "    accu1 = accuracy_score(np.squeeze(y_test.T), np.squeeze(y_test_pred.round().astype(int).T))\n",
    "#     accuracyval_val.append(np.squeeze(accu1))\n",
    "    accuracyval_val.append(accu1)\n",
    "    \n",
    "    y_val_pred = predict_(x_val, w, b)\n",
    "#     print('y_val_pred',y_val_pred)\n",
    "    \n",
    "    accu2 = accuracy_score(np.squeeze(y_val.T), np.squeeze(y_val_pred.round().astype(int).T))\n",
    "#     accuracyval_test.append(np.squeeze(accu2))\n",
    "    accuracyval_test.append(accu2)\n",
    "    \n",
    "    # Validation loss vs epoch\n",
    "    #y_val_pred = predict_(x_val, w, b)\n",
    "    y_val = y_val.T\n",
    "    y_val = y_val.reshape(1, y_val.shape[0])\n",
    "#     print('y_val: ', y_val)\n",
    "    \n",
    "    p_val = y_val_pred.T\n",
    "#     print('p_val: ' , p_val)\n",
    "    \n",
    "    m_val = x_val.T.shape[1]\n",
    "    pred_loss = cost_fun(y_val , p_val , m_val)\n",
    "    lossval.append(pred_loss)\n",
    "    \n",
    "\n",
    "print('Final accuracy for validation:', accu2*100)\n",
    "print('Final accuracy for Testing:', accu1*100)\n",
    "print('Final accuracy for Training:', accu*100)\n",
    "\n"
   ]
  },
  {
   "cell_type": "code",
   "execution_count": null,
   "metadata": {},
   "outputs": [],
   "source": [
    "\n",
    "\n",
    "fig=plt.figure()\n",
    "# plt.plot(epochs, 'r',label='Epoch')\n",
    "plt.plot(accuracyval, 'b',label='Training accuracy')\n",
    "plt.xlabel('Epoch: ' )\n",
    "plt.ylabel('Training accuracy: '  )    \n",
    "plt.legend()\n",
    "fig.savefig('TA1.png')\n",
    "\n",
    "\n",
    "fig=plt.figure()\n",
    "# plt.plot(epochs, 'r',label='Epoch')\n",
    "\n",
    "plt.plot(accuracyval_val, 'r',label='Validation accuracy')\n",
    "plt.plot(accuracyval, 'b',label='Training accuracy')\n",
    "plt.xlabel('Epoch: ' )\n",
    "plt.ylabel('Accuracy: ')    \n",
    "plt.legend()\n",
    "fig.savefig('VTA1.png')\n",
    "    \n",
    "  \n",
    "fig=plt.figure()\n",
    "plt.plot(accuracyval_val, 'b',label='Validation accuracy')\n",
    "# plt.plot(epochs, accuracyval_val)\n",
    "plt.xlabel('Epoch: ' )\n",
    "plt.ylabel('Validation accuracy: ' )    \n",
    "plt.legend()\n",
    "fig.savefig('VA1.png')\n",
    "\n",
    "fig=plt.figure()\n",
    "plt.plot(losstrack, 'b',label='Training Loss')\n",
    "plt.xlabel('Epoch: ' )\n",
    "plt.ylabel('Training Loss: ' )    \n",
    "plt.legend()\n",
    "fig.savefig('TL1.png')\n",
    "\n",
    "fig=plt.figure()\n",
    "plt.plot(losstrack, 'r',label='Training Loss')\n",
    "plt.plot(lossval, 'b',label='Validation Loss')\n",
    "plt.xlabel('Epoch: ' )\n",
    "plt.ylabel('loss: ' )    \n",
    "plt.legend()\n",
    "fig.savefig('VTL1.png')\n",
    "\n",
    "fig=plt.figure()\n",
    "plt.plot(lossval, 'b',label='Validation Loss')\n",
    "plt.xlabel('Epoch: ' )\n",
    "plt.ylabel('Validation loss: ' )    \n",
    "plt.legend()\n",
    "fig.savefig('VL1.png')\n"
   ]
  },
  {
   "cell_type": "markdown",
   "metadata": {},
   "source": [
    "# Logically calculated accuracy formula"
   ]
  },
  {
   "cell_type": "code",
   "execution_count": null,
   "metadata": {},
   "outputs": [],
   "source": [
    "correct=0\n",
    "wrong=0\n",
    "for p,q in zip(np.squeeze(y_test.T), np.squeeze(y_test_pred.round().astype(int).T)):\n",
    "    #print(p, int(q))\n",
    "    if(p==int(q)):\n",
    "        correct+=1\n",
    "    else:\n",
    "        wrong+=1\n",
    "print('Validation Accuracy ', (correct/(wrong+correct))*100)"
   ]
  },
  {
   "cell_type": "code",
   "execution_count": null,
   "metadata": {},
   "outputs": [],
   "source": [
    "results = confusion_matrix(np.squeeze(y_test.T), np.squeeze(y_test_pred.round().astype(int).T))  #(true, pred)\n",
    "print ('Confusion Matrix :')\n",
    "print(results) \n",
    "print ('Accuracy Score :',accuracy_score(np.squeeze(y_test.T), np.squeeze(y_test_pred.round().astype(int).T) ))\n",
    "print ('Report : ')\n",
    "print (classification_report(np.squeeze(y_test.T), np.squeeze(y_test_pred.round().astype(int).T)))"
   ]
  },
  {
   "cell_type": "code",
   "execution_count": null,
   "metadata": {},
   "outputs": [],
   "source": []
  }
 ],
 "metadata": {
  "kernelspec": {
   "display_name": "Python 3",
   "language": "python",
   "name": "python3"
  },
  "language_info": {
   "codemirror_mode": {
    "name": "ipython",
    "version": 3
   },
   "file_extension": ".py",
   "mimetype": "text/x-python",
   "name": "python",
   "nbconvert_exporter": "python",
   "pygments_lexer": "ipython3",
   "version": "3.7.3"
  }
 },
 "nbformat": 4,
 "nbformat_minor": 2
}
